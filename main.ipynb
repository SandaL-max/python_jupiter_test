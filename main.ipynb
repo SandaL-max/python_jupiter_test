{
 "cells": [
  {
   "cell_type": "code",
   "execution_count": 1,
   "metadata": {},
   "outputs": [],
   "source": [
    "import numpy as np\n",
    "import pandas as pd\n",
    "import matplotlib.pylab as plt\n",
    "from sklearn.tree import DecisionTreeRegressor\n",
    "from sklearn.model_selection import train_test_split\n",
    "from sklearn.preprocessing import OneHotEncoder"
   ]
  },
  {
   "cell_type": "code",
   "execution_count": 2,
   "metadata": {},
   "outputs": [
    {
     "name": "stderr",
     "output_type": "stream",
     "text": [
      "C:\\Users\\SandaL\\AppData\\Local\\Temp\\ipykernel_29256\\1857370984.py:2: FutureWarning: DataFrame.interpolate with object dtype is deprecated and will raise in a future version. Call obj.infer_objects(copy=False) before interpolating instead.\n",
      "  df = df.interpolate(method=\"linear\")\n"
     ]
    }
   ],
   "source": [
    "df = pd.read_csv(\"house_prices.csv\")\n",
    "df = df.interpolate(method=\"linear\")\n",
    "\n",
    "y = df[\"Price (in rupees)\"]\n",
    "\n",
    "df = df.drop([\"Price (in rupees)\"], axis=\"columns\")\n",
    "\n",
    "one_hot_encoder = OneHotEncoder(handle_unknown=\"ignore\")\n",
    "\n",
    "X = np.array(df)\n",
    "\n",
    "X = one_hot_encoder.fit_transform(X)\n",
    "X_train, X_test, y_train, y_test = train_test_split(X, y, test_size=0.2)"
   ]
  },
  {
   "cell_type": "code",
   "execution_count": 3,
   "metadata": {},
   "outputs": [],
   "source": [
    "import joblib\n",
    "\n",
    "# model = DecisionTreeRegressor()\n",
    "# model.fit(X_train, y_train)\n",
    "\n",
    "# joblib.dump(model, \"apartments-test.joblib\")\n",
    "\n",
    "model = joblib.load(\"apartments-test.joblib\")"
   ]
  },
  {
   "cell_type": "code",
   "execution_count": 4,
   "metadata": {},
   "outputs": [
    {
     "data": {
      "text/plain": [
       "0.4680134691492637"
      ]
     },
     "execution_count": 4,
     "metadata": {},
     "output_type": "execute_result"
    }
   ],
   "source": [
    "from sklearn.metrics import r2_score\n",
    "\n",
    "prediction = model.predict(X_test)\n",
    "\n",
    "r2_score(y_test, prediction)"
   ]
  }
 ],
 "metadata": {
  "kernelspec": {
   "display_name": ".venv",
   "language": "python",
   "name": "python3"
  },
  "language_info": {
   "codemirror_mode": {
    "name": "ipython",
    "version": 3
   },
   "file_extension": ".py",
   "mimetype": "text/x-python",
   "name": "python",
   "nbconvert_exporter": "python",
   "pygments_lexer": "ipython3",
   "version": "3.12.3"
  }
 },
 "nbformat": 4,
 "nbformat_minor": 2
}
